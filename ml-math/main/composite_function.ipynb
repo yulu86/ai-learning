{
 "cells": [
  {
   "cell_type": "markdown",
   "id": "32de9d75",
   "metadata": {},
   "source": [
    "# 附录：复合函数\n",
    "\n",
    "---"
   ]
  },
  {
   "cell_type": "markdown",
   "id": "89a08cf5",
   "metadata": {},
   "source": [
    "由多个函数组合而成的函数称为`复合函数`"
   ]
  }
 ],
 "metadata": {
  "kernelspec": {
   "display_name": "Python 3 (ipykernel)",
   "language": "python",
   "name": "python3"
  },
  "language_info": {
   "codemirror_mode": {
    "name": "ipython",
    "version": 3
   },
   "file_extension": ".py",
   "mimetype": "text/x-python",
   "name": "python",
   "nbconvert_exporter": "python",
   "pygments_lexer": "ipython3",
   "version": "3.10.6"
  }
 },
 "nbformat": 4,
 "nbformat_minor": 5
}
