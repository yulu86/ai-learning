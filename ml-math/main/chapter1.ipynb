{
 "cells": [
  {
   "cell_type": "markdown",
   "id": "26f4bc70",
   "metadata": {},
   "source": [
    "## 1.3 机器学习的算法"
   ]
  },
  {
   "cell_type": "markdown",
   "id": "3e9cec39",
   "metadata": {},
   "source": [
    "---\n",
    "## 机器学习的分类\n",
    "\n",
    "- 回归 (regression)\n",
    "\n",
    "> 处理`连续数据`（例如：时间序列数据）时使用的技术\n",
    "\n",
    "- 分类 (classification)\n",
    "\n",
    "> 例如垃圾邮件识别，需要提供分类`标签`\n",
    "\n",
    "- 聚类 (clustering)\n",
    "\n",
    "> 简单理解为不带标签的分类"
   ]
  },
  {
   "cell_type": "markdown",
   "id": "12fbab6a",
   "metadata": {},
   "source": [
    "---\n",
    "\n",
    "## 分类\n",
    "\n",
    "- `有监督学习`：使用`有标签`的数据进行的学习\n",
    "- `无监督学习`：使用`没有标签`的数据进行的学习"
   ]
  }
 ],
 "metadata": {
  "kernelspec": {
   "display_name": "Python 3 (ipykernel)",
   "language": "python",
   "name": "python3"
  },
  "language_info": {
   "codemirror_mode": {
    "name": "ipython",
    "version": 3
   },
   "file_extension": ".py",
   "mimetype": "text/x-python",
   "name": "python",
   "nbconvert_exporter": "python",
   "pygments_lexer": "ipython3",
   "version": "3.10.6"
  }
 },
 "nbformat": 4,
 "nbformat_minor": 5
}
