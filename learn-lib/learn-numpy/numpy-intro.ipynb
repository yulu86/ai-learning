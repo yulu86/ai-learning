{
 "cells": [
  {
   "cell_type": "markdown",
   "id": "ee9a49d1",
   "metadata": {},
   "source": [
    "# Learn Numpy\n",
    "\n",
    "## 参考资料\n",
    "\n",
    "- [Bilibili | 一个10分钟的numpy入门教程](https://www.bilibili.com/video/BV1Wy4y1h7ii/?spm_id_from=333.880.my_history.page.click&vd_source=0827bcf789df7e0812ec44f70f9a82ec)\n",
    "- [官方文档 | NumPy: the absolute basics for beginners](https://numpy.org/doc/stable/user/absolute_beginners.html)\n",
    "- [开源电子书 | 从python到numpy](https://www.labri.fr/perso/nrougier/from-python-to-numpy/)"
   ]
  },
  {
   "cell_type": "markdown",
   "id": "57516c71",
   "metadata": {},
   "source": [
    "### 1. 导入`numpy`"
   ]
  },
  {
   "cell_type": "code",
   "execution_count": 2,
   "id": "3d1f76e8-7061-465e-a39e-7aae419a8371",
   "metadata": {},
   "outputs": [],
   "source": [
    "import numpy as np"
   ]
  },
  {
   "cell_type": "markdown",
   "id": "b50abe87",
   "metadata": {},
   "source": [
    "### 2. 从python原生array转换到`numpy`的array"
   ]
  },
  {
   "cell_type": "code",
   "execution_count": 3,
   "id": "a79e1866-a44c-4988-9ec3-5a673bea6728",
   "metadata": {},
   "outputs": [
    {
     "data": {
      "text/plain": [
       "array([1, 2, 3, 4, 5])"
      ]
     },
     "execution_count": 3,
     "metadata": {},
     "output_type": "execute_result"
    }
   ],
   "source": [
    "a = np.array([1, 2, 3, 4, 5])\n",
    "a"
   ]
  },
  {
   "cell_type": "code",
   "execution_count": 4,
   "id": "14fc9467",
   "metadata": {},
   "outputs": [
    {
     "data": {
      "text/plain": [
       "(5,)"
      ]
     },
     "execution_count": 4,
     "metadata": {},
     "output_type": "execute_result"
    }
   ],
   "source": [
    "# 获取数组的尺寸\n",
    "a.shape"
   ]
  },
  {
   "cell_type": "code",
   "execution_count": 5,
   "id": "2a4f67ed-3749-4f5b-b6a1-47acccb5b8d7",
   "metadata": {},
   "outputs": [
    {
     "name": "stdout",
     "output_type": "stream",
     "text": [
      "[[0. 0.]\n",
      " [0. 0.]\n",
      " [0. 0.]]\n",
      "(3, 2)\n"
     ]
    }
   ],
   "source": [
    "a= np.zeros((3, 2))\n",
    "print(a)\n",
    "print(a.shape)"
   ]
  },
  {
   "cell_type": "code",
   "execution_count": 6,
   "id": "33b781e8",
   "metadata": {},
   "outputs": [
    {
     "data": {
      "text/plain": [
       "array([[1., 1., 1., 1., 1.],\n",
       "       [1., 1., 1., 1., 1.]])"
      ]
     },
     "execution_count": 6,
     "metadata": {},
     "output_type": "execute_result"
    }
   ],
   "source": [
    "np.ones((2, 5))"
   ]
  },
  {
   "cell_type": "code",
   "execution_count": 7,
   "id": "b8681958-82d4-45dc-ad37-d195cd0c4da7",
   "metadata": {},
   "outputs": [
    {
     "data": {
      "text/plain": [
       "array([3, 4, 5, 6])"
      ]
     },
     "execution_count": 7,
     "metadata": {},
     "output_type": "execute_result"
    }
   ],
   "source": [
    "# 递增或递减的数列\n",
    "np.arange(3, 7)"
   ]
  },
  {
   "cell_type": "code",
   "execution_count": 8,
   "id": "da69e5e5",
   "metadata": {},
   "outputs": [
    {
     "data": {
      "text/plain": [
       "array([0.  , 0.25, 0.5 , 0.75, 1.  ])"
      ]
     },
     "execution_count": 8,
     "metadata": {},
     "output_type": "execute_result"
    }
   ],
   "source": [
    "# 区间等间距分布的数\n",
    "np.linspace(0, 1, 5)"
   ]
  },
  {
   "cell_type": "code",
   "execution_count": 9,
   "id": "e630a7ee",
   "metadata": {},
   "outputs": [
    {
     "data": {
      "text/plain": [
       "array([[0.40316523, 0.24361434, 0.30369784, 0.78792784],\n",
       "       [0.05655426, 0.83852102, 0.82709771, 0.03240927]])"
      ]
     },
     "execution_count": 9,
     "metadata": {},
     "output_type": "execute_result"
    }
   ],
   "source": [
    "# 生成随机的数组\n",
    "np.random.rand(2, 4)"
   ]
  },
  {
   "cell_type": "markdown",
   "id": "161c0fc1",
   "metadata": {},
   "source": [
    "### 3. 默认的数据类型为浮点数"
   ]
  },
  {
   "cell_type": "code",
   "execution_count": 13,
   "id": "1b477a72",
   "metadata": {},
   "outputs": [
    {
     "data": {
      "text/plain": [
       "dtype('float64')"
      ]
     },
     "execution_count": 13,
     "metadata": {},
     "output_type": "execute_result"
    }
   ],
   "source": [
    "a = np.zeros((2, 4))\n",
    "a.dtype"
   ]
  },
  {
   "cell_type": "code",
   "execution_count": 15,
   "id": "572d9c6b",
   "metadata": {},
   "outputs": [
    {
     "data": {
      "text/plain": [
       "array([[0, 0],\n",
       "       [0, 0],\n",
       "       [0, 0],\n",
       "       [0, 0]])"
      ]
     },
     "execution_count": 15,
     "metadata": {},
     "output_type": "execute_result"
    }
   ],
   "source": [
    "# 显式指定数据类型\n",
    "a = np.zeros((4, 2), dtype = np.int32)\n",
    "a"
   ]
  }
 ],
 "metadata": {
  "kernelspec": {
   "display_name": "Python 3 (ipykernel)",
   "language": "python",
   "name": "python3"
  },
  "language_info": {
   "codemirror_mode": {
    "name": "ipython",
    "version": 3
   },
   "file_extension": ".py",
   "mimetype": "text/x-python",
   "name": "python",
   "nbconvert_exporter": "python",
   "pygments_lexer": "ipython3",
   "version": "3.10.6"
  }
 },
 "nbformat": 4,
 "nbformat_minor": 5
}
