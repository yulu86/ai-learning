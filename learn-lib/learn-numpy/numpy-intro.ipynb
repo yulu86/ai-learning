{
 "cells": [
  {
   "cell_type": "markdown",
   "id": "ee9a49d1",
   "metadata": {},
   "source": [
    "# Learn Numpy\n",
    "\n",
    "## 参考资料\n",
    "\n",
    "- [Bilibili | 一个10分钟的numpy入门教程](https://www.bilibili.com/video/BV1Wy4y1h7ii/?spm_id_from=333.880.my_history.page.click&vd_source=0827bcf789df7e0812ec44f70f9a82ec)\n",
    "- [官方文档 | NumPy: the absolute basics for beginners](https://numpy.org/doc/stable/user/absolute_beginners.html)\n",
    "- [开源电子书 | 从python到numpy](https://www.labri.fr/perso/nrougier/from-python-to-numpy/)"
   ]
  },
  {
   "cell_type": "markdown",
   "id": "57516c71",
   "metadata": {},
   "source": [
    "### 1. 导入`numpy`"
   ]
  },
  {
   "cell_type": "code",
   "execution_count": 4,
   "id": "3d1f76e8-7061-465e-a39e-7aae419a8371",
   "metadata": {},
   "outputs": [],
   "source": [
    "import numpy as np"
   ]
  },
  {
   "cell_type": "markdown",
   "id": "b50abe87",
   "metadata": {},
   "source": [
    "### 2. 从python原生array转换到`numpy`的array"
   ]
  },
  {
   "cell_type": "code",
   "execution_count": 5,
   "id": "a79e1866-a44c-4988-9ec3-5a673bea6728",
   "metadata": {},
   "outputs": [
    {
     "data": {
      "text/plain": [
       "array([1, 2, 3, 4, 5])"
      ]
     },
     "execution_count": 5,
     "metadata": {},
     "output_type": "execute_result"
    }
   ],
   "source": [
    "a = np.array([1, 2, 3, 4, 5])\n",
    "a"
   ]
  },
  {
   "cell_type": "code",
   "execution_count": 6,
   "id": "14fc9467",
   "metadata": {},
   "outputs": [
    {
     "data": {
      "text/plain": [
       "(5,)"
      ]
     },
     "execution_count": 6,
     "metadata": {},
     "output_type": "execute_result"
    }
   ],
   "source": [
    "# 获取数组的尺寸\n",
    "a.shape"
   ]
  },
  {
   "cell_type": "code",
   "execution_count": 7,
   "id": "2a4f67ed-3749-4f5b-b6a1-47acccb5b8d7",
   "metadata": {},
   "outputs": [
    {
     "name": "stdout",
     "output_type": "stream",
     "text": [
      "[[0. 0.]\n",
      " [0. 0.]\n",
      " [0. 0.]]\n",
      "(3, 2)\n"
     ]
    }
   ],
   "source": [
    "a= np.zeros((3, 2))\n",
    "print(a)\n",
    "print(a.shape)"
   ]
  },
  {
   "cell_type": "code",
   "execution_count": 8,
   "id": "33b781e8",
   "metadata": {},
   "outputs": [
    {
     "data": {
      "text/plain": [
       "array([[1., 1., 1., 1., 1.],\n",
       "       [1., 1., 1., 1., 1.]])"
      ]
     },
     "execution_count": 8,
     "metadata": {},
     "output_type": "execute_result"
    }
   ],
   "source": [
    "np.ones((2, 5))"
   ]
  },
  {
   "cell_type": "code",
   "execution_count": 9,
   "id": "b8681958-82d4-45dc-ad37-d195cd0c4da7",
   "metadata": {},
   "outputs": [
    {
     "data": {
      "text/plain": [
       "array([3, 4, 5, 6])"
      ]
     },
     "execution_count": 9,
     "metadata": {},
     "output_type": "execute_result"
    }
   ],
   "source": [
    "# 递增或递减的数列\n",
    "np.arange(3, 7)"
   ]
  },
  {
   "cell_type": "code",
   "execution_count": 10,
   "id": "da69e5e5",
   "metadata": {},
   "outputs": [
    {
     "data": {
      "text/plain": [
       "array([0.  , 0.25, 0.5 , 0.75, 1.  ])"
      ]
     },
     "execution_count": 10,
     "metadata": {},
     "output_type": "execute_result"
    }
   ],
   "source": [
    "# 区间等间距分布的数\n",
    "np.linspace(0, 1, 5)"
   ]
  },
  {
   "cell_type": "code",
   "execution_count": 11,
   "id": "e630a7ee",
   "metadata": {},
   "outputs": [
    {
     "data": {
      "text/plain": [
       "array([[0.23001298, 0.78655462, 0.42134038, 0.64597029],\n",
       "       [0.07744212, 0.32823275, 0.53963136, 0.31745753]])"
      ]
     },
     "execution_count": 11,
     "metadata": {},
     "output_type": "execute_result"
    }
   ],
   "source": [
    "# 生成随机的数组\n",
    "np.random.rand(2, 4)"
   ]
  },
  {
   "cell_type": "markdown",
   "id": "161c0fc1",
   "metadata": {},
   "source": [
    "### 3. 默认的数据类型为浮点数"
   ]
  },
  {
   "cell_type": "code",
   "execution_count": 12,
   "id": "1b477a72",
   "metadata": {},
   "outputs": [
    {
     "data": {
      "text/plain": [
       "dtype('float64')"
      ]
     },
     "execution_count": 12,
     "metadata": {},
     "output_type": "execute_result"
    }
   ],
   "source": [
    "a = np.zeros((2, 4))\n",
    "a.dtype"
   ]
  },
  {
   "cell_type": "code",
   "execution_count": 13,
   "id": "572d9c6b",
   "metadata": {},
   "outputs": [
    {
     "data": {
      "text/plain": [
       "array([[0, 0],\n",
       "       [0, 0],\n",
       "       [0, 0],\n",
       "       [0, 0]])"
      ]
     },
     "execution_count": 13,
     "metadata": {},
     "output_type": "execute_result"
    }
   ],
   "source": [
    "# 显式指定数据类型\n",
    "a = np.zeros((4, 2), dtype = np.int32)\n",
    "a"
   ]
  },
  {
   "cell_type": "markdown",
   "id": "689c79d9",
   "metadata": {},
   "source": [
    "---\n",
    "### 增加、删除元素，排序\n",
    "涉及   \n",
    "- `np.osrt()`\n",
    "- `np.concatenate()`"
   ]
  },
  {
   "cell_type": "code",
   "execution_count": 15,
   "id": "cdbd0618",
   "metadata": {},
   "outputs": [
    {
     "data": {
      "text/plain": [
       "array([1, 2, 3, 4, 5, 6, 7, 8])"
      ]
     },
     "execution_count": 15,
     "metadata": {},
     "output_type": "execute_result"
    }
   ],
   "source": [
    "arr = np.array([2, 1, 5, 3, 7, 4, 6, 8])\n",
    "np.sort(arr)"
   ]
  },
  {
   "cell_type": "code",
   "execution_count": 17,
   "id": "67dae584",
   "metadata": {},
   "outputs": [
    {
     "data": {
      "text/plain": [
       "array([1, 2, 3, 4, 5, 6, 7, 8])"
      ]
     },
     "execution_count": 17,
     "metadata": {},
     "output_type": "execute_result"
    }
   ],
   "source": [
    "a = np.array([1, 2, 3, 4])\n",
    "b = np.array([5, 6, 7, 8])\n",
    "np.concatenate((a, b))"
   ]
  },
  {
   "cell_type": "code",
   "execution_count": 18,
   "id": "1fa514ff",
   "metadata": {},
   "outputs": [
    {
     "data": {
      "text/plain": [
       "array([[1, 2],\n",
       "       [3, 4],\n",
       "       [5, 6]])"
      ]
     },
     "execution_count": 18,
     "metadata": {},
     "output_type": "execute_result"
    }
   ],
   "source": [
    "x = np.array([[1, 2],\n",
    "              [3, 4]\n",
    "              ])\n",
    "y = np.array([\n",
    "    [5, 6]\n",
    "    ])\n",
    "np.concatenate((x, y), axis=0)"
   ]
  },
  {
   "cell_type": "markdown",
   "id": "2494a859",
   "metadata": {},
   "source": [
    "---\n",
    "### 数组大小\n",
    "涉及    \n",
    "- `ndarray.ndim`\n",
    "- `ndarray.size`\n",
    "- `ndarray.shape`"
   ]
  },
  {
   "cell_type": "code",
   "execution_count": 19,
   "id": "8d50f8d3",
   "metadata": {},
   "outputs": [
    {
     "data": {
      "text/plain": [
       "array([[[0, 1, 2, 3],\n",
       "        [4, 5, 6, 7]],\n",
       "\n",
       "       [[0, 1, 2, 3],\n",
       "        [4, 5, 6, 7]],\n",
       "\n",
       "       [[0, 1, 2, 3],\n",
       "        [4, 5, 6, 7]]])"
      ]
     },
     "execution_count": 19,
     "metadata": {},
     "output_type": "execute_result"
    }
   ],
   "source": [
    "array_example = np.array([\n",
    "  [\n",
    "      [0, 1, 2, 3],\n",
    "      [4, 5, 6, 7]\n",
    "  ],\n",
    "  [\n",
    "      [0, 1, 2, 3],\n",
    "      [4, 5, 6, 7]\n",
    "  ],\n",
    "  [\n",
    "      [0, 1, 2, 3],\n",
    "      [4, 5, 6, 7]\n",
    "  ]\n",
    "])\n",
    "array_example"
   ]
  },
  {
   "cell_type": "code",
   "execution_count": 20,
   "id": "3d175218",
   "metadata": {},
   "outputs": [
    {
     "data": {
      "text/plain": [
       "3"
      ]
     },
     "execution_count": 20,
     "metadata": {},
     "output_type": "execute_result"
    }
   ],
   "source": [
    "# 数组的维度\n",
    "array_example.ndim"
   ]
  },
  {
   "cell_type": "code",
   "execution_count": 21,
   "id": "c8c7b6fd",
   "metadata": {},
   "outputs": [
    {
     "data": {
      "text/plain": [
       "24"
      ]
     },
     "execution_count": 21,
     "metadata": {},
     "output_type": "execute_result"
    }
   ],
   "source": [
    "# 数组元素总数\n",
    "array_example.size"
   ]
  },
  {
   "cell_type": "code",
   "execution_count": 22,
   "id": "52e63203",
   "metadata": {},
   "outputs": [
    {
     "data": {
      "text/plain": [
       "(3, 2, 4)"
      ]
     },
     "execution_count": 22,
     "metadata": {},
     "output_type": "execute_result"
    }
   ],
   "source": [
    "# 数据的各维度大小(shape)\n",
    "array_example.shape"
   ]
  },
  {
   "cell_type": "markdown",
   "id": "ea85f27b",
   "metadata": {},
   "source": [
    "---\n",
    "### 重塑(reshape)数组\n",
    "涉及\n",
    "- `arr.reshape()`"
   ]
  },
  {
   "cell_type": "code",
   "execution_count": 23,
   "id": "e2cbbc6a",
   "metadata": {},
   "outputs": [
    {
     "data": {
      "text/plain": [
       "array([0, 1, 2, 3, 4, 5])"
      ]
     },
     "execution_count": 23,
     "metadata": {},
     "output_type": "execute_result"
    }
   ],
   "source": [
    "a = np.arange(6)\n",
    "a"
   ]
  },
  {
   "cell_type": "code",
   "execution_count": 26,
   "id": "c8eb3751",
   "metadata": {},
   "outputs": [
    {
     "data": {
      "text/plain": [
       "array([[0, 1],\n",
       "       [2, 3],\n",
       "       [4, 5]])"
      ]
     },
     "execution_count": 26,
     "metadata": {},
     "output_type": "execute_result"
    }
   ],
   "source": [
    "# 重塑成3行2列的数组\n",
    "b = a.reshape(3, 2)\n",
    "b"
   ]
  },
  {
   "cell_type": "markdown",
   "id": "12e8b3d4",
   "metadata": {},
   "source": [
    "---\n",
    "### 从`一维数组`转为`二维数组`\n",
    "涉及    \n",
    "- `np.newaxis`\n",
    "- `np.expand_dims`"
   ]
  }
 ],
 "metadata": {
  "kernelspec": {
   "display_name": "Python 3 (ipykernel)",
   "language": "python",
   "name": "python3"
  },
  "language_info": {
   "codemirror_mode": {
    "name": "ipython",
    "version": 3
   },
   "file_extension": ".py",
   "mimetype": "text/x-python",
   "name": "python",
   "nbconvert_exporter": "python",
   "pygments_lexer": "ipython3",
   "version": "3.10.6"
  }
 },
 "nbformat": 4,
 "nbformat_minor": 5
}
