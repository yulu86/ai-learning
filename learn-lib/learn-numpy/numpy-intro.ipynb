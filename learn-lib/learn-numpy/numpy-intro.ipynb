{
 "cells": [
  {
   "cell_type": "markdown",
   "id": "ee9a49d1",
   "metadata": {},
   "source": [
    "# Learn Numpy\n",
    "\n",
    "## 参考资料\n",
    "\n",
    "- [Bilibili | 一个10分钟的numpy入门教程](https://www.bilibili.com/video/BV1Wy4y1h7ii/?spm_id_from=333.880.my_history.page.click&vd_source=0827bcf789df7e0812ec44f70f9a82ec)\n",
    "- [开源电子书 | 从python到numpy](https://www.labri.fr/perso/nrougier/from-python-to-numpy/)"
   ]
  },
  {
   "cell_type": "markdown",
   "id": "57516c71",
   "metadata": {},
   "source": [
    "### 1. 导入`numpy`"
   ]
  },
  {
   "cell_type": "code",
   "execution_count": 1,
   "id": "3d1f76e8-7061-465e-a39e-7aae419a8371",
   "metadata": {},
   "outputs": [],
   "source": [
    "import numpy as np"
   ]
  },
  {
   "cell_type": "markdown",
   "id": "b50abe87",
   "metadata": {},
   "source": [
    "### 2. 从python原生array转换到`numpy`的array"
   ]
  },
  {
   "cell_type": "code",
   "execution_count": 8,
   "id": "a79e1866-a44c-4988-9ec3-5a673bea6728",
   "metadata": {},
   "outputs": [
    {
     "data": {
      "text/plain": [
       "array([1, 2, 3, 4, 5])"
      ]
     },
     "execution_count": 8,
     "metadata": {},
     "output_type": "execute_result"
    }
   ],
   "source": [
    "a = np.array([1, 2, 3, 4, 5])\n",
    "a"
   ]
  },
  {
   "cell_type": "code",
   "execution_count": 11,
   "id": "14fc9467",
   "metadata": {},
   "outputs": [
    {
     "data": {
      "text/plain": [
       "(5,)"
      ]
     },
     "execution_count": 11,
     "metadata": {},
     "output_type": "execute_result"
    }
   ],
   "source": [
    "# 获取数组的尺寸\n",
    "a.shape"
   ]
  },
  {
   "cell_type": "code",
   "execution_count": 14,
   "id": "2a4f67ed-3749-4f5b-b6a1-47acccb5b8d7",
   "metadata": {},
   "outputs": [
    {
     "name": "stdout",
     "output_type": "stream",
     "text": [
      "[[0. 0.]\n",
      " [0. 0.]\n",
      " [0. 0.]]\n",
      "(3, 2)\n"
     ]
    }
   ],
   "source": [
    "a= np.zeros((3, 2))\n",
    "print(a)\n",
    "print(a.shape)"
   ]
  },
  {
   "cell_type": "code",
   "execution_count": 6,
   "id": "33b781e8",
   "metadata": {},
   "outputs": [
    {
     "data": {
      "text/plain": [
       "array([[1., 1., 1., 1., 1.],\n",
       "       [1., 1., 1., 1., 1.]])"
      ]
     },
     "execution_count": 6,
     "metadata": {},
     "output_type": "execute_result"
    }
   ],
   "source": [
    "np.ones((2, 5))"
   ]
  },
  {
   "cell_type": "code",
   "execution_count": 15,
   "id": "b8681958-82d4-45dc-ad37-d195cd0c4da7",
   "metadata": {},
   "outputs": [
    {
     "data": {
      "text/plain": [
       "array([3, 4, 5, 6])"
      ]
     },
     "execution_count": 15,
     "metadata": {},
     "output_type": "execute_result"
    }
   ],
   "source": [
    "# 递增或递减的数列\n",
    "np.arange(3, 7)"
   ]
  },
  {
   "cell_type": "code",
   "execution_count": 17,
   "id": "da69e5e5",
   "metadata": {},
   "outputs": [
    {
     "data": {
      "text/plain": [
       "array([0.  , 0.25, 0.5 , 0.75, 1.  ])"
      ]
     },
     "execution_count": 17,
     "metadata": {},
     "output_type": "execute_result"
    }
   ],
   "source": [
    "# 区间等间距分布的数\n",
    "np.linspace(0, 1, 5)"
   ]
  }
 ],
 "metadata": {
  "kernelspec": {
   "display_name": "Python 3 (ipykernel)",
   "language": "python",
   "name": "python3"
  },
  "language_info": {
   "codemirror_mode": {
    "name": "ipython",
    "version": 3
   },
   "file_extension": ".py",
   "mimetype": "text/x-python",
   "name": "python",
   "nbconvert_exporter": "python",
   "pygments_lexer": "ipython3",
   "version": "3.10.6"
  }
 },
 "nbformat": 4,
 "nbformat_minor": 5
}
