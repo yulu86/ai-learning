{
 "cells": [
  {
   "cell_type": "markdown",
   "id": "02073ce3",
   "metadata": {},
   "source": [
    "# For Beginners\n",
    "\n",
    "## 参考资料\n",
    "\n",
    "- [官方文档 | NumPy: the absolute basics for beginners](https://numpy.org/doc/stable/user/absolute_beginners.html)\n",
    "\n",
    "- [开源电子书 | 从python到numpy](https://www.labri.fr/perso/nrougier/from-python-to-numpy/)"
   ]
  },
  {
   "cell_type": "code",
   "execution_count": 2,
   "id": "ed164d46",
   "metadata": {},
   "outputs": [],
   "source": [
    "import numpy as np"
   ]
  },
  {
   "cell_type": "markdown",
   "id": "2d1eb137",
   "metadata": {},
   "source": [
    "### 从`List`转换为numpy `array`"
   ]
  },
  {
   "cell_type": "code",
   "execution_count": 3,
   "id": "1e2da3e7",
   "metadata": {},
   "outputs": [
    {
     "data": {
      "text/plain": [
       "array([1, 2, 3, 4, 5, 6])"
      ]
     },
     "execution_count": 3,
     "metadata": {},
     "output_type": "execute_result"
    }
   ],
   "source": [
    "# 一维数组\n",
    "a = np.array([1, 2, 3, 4, 5, 6])\n",
    "a"
   ]
  },
  {
   "cell_type": "code",
   "execution_count": 4,
   "id": "adf4d3bb",
   "metadata": {},
   "outputs": [
    {
     "data": {
      "text/plain": [
       "array([[ 1,  2,  3,  4],\n",
       "       [ 5,  6,  7,  8],\n",
       "       [ 9, 10, 11, 12]])"
      ]
     },
     "execution_count": 4,
     "metadata": {},
     "output_type": "execute_result"
    }
   ],
   "source": [
    "# 多维数组\n",
    "a = np.array([[1, 2, 3, 4], [5, 6, 7, 8], [9, 10, 11, 12]])\n",
    "a"
   ]
  },
  {
   "cell_type": "markdown",
   "id": "ea6aca96",
   "metadata": {},
   "source": [
    "### 使用索引访问数组元素"
   ]
  },
  {
   "cell_type": "code",
   "execution_count": 5,
   "id": "1a5d5cec",
   "metadata": {},
   "outputs": [
    {
     "data": {
      "text/plain": [
       "array([1, 2, 3, 4])"
      ]
     },
     "execution_count": 5,
     "metadata": {},
     "output_type": "execute_result"
    }
   ],
   "source": [
    "a[0]"
   ]
  },
  {
   "cell_type": "markdown",
   "id": "aa6ba928",
   "metadata": {},
   "source": [
    "- Vector: 一维数组\n",
    "- Matrix: 二位数组\n",
    "- tensor: 多维数组\n",
    "\n",
    "`维度`(dimensions)被称为`轴`(axes)"
   ]
  },
  {
   "cell_type": "markdown",
   "id": "4094a380",
   "metadata": {},
   "source": [
    "---\n",
    "### 创建基本数组\n",
    "\n",
    "涉及    \n",
    "- `np.array()` \n",
    "- `np.zeros()`\n",
    "- `np.ones()`\n",
    "- `np.empty()`\n",
    "- `np.arange()`\n",
    "- `np.linspace()`\n",
    "- `dtype`"
   ]
  },
  {
   "cell_type": "code",
   "execution_count": 6,
   "id": "87e45e94",
   "metadata": {},
   "outputs": [
    {
     "data": {
      "text/plain": [
       "array([1, 2, 3])"
      ]
     },
     "execution_count": 6,
     "metadata": {},
     "output_type": "execute_result"
    }
   ],
   "source": [
    "a = np.array([1, 2, 3])\n",
    "a"
   ]
  },
  {
   "cell_type": "code",
   "execution_count": 7,
   "id": "9f01b1e4",
   "metadata": {},
   "outputs": [
    {
     "data": {
      "text/plain": [
       "array([0., 0.])"
      ]
     },
     "execution_count": 7,
     "metadata": {},
     "output_type": "execute_result"
    }
   ],
   "source": [
    "np.zeros(2)"
   ]
  },
  {
   "cell_type": "code",
   "execution_count": 8,
   "id": "4eb22b65",
   "metadata": {},
   "outputs": [
    {
     "data": {
      "text/plain": [
       "array([[1., 1., 1.],\n",
       "       [1., 1., 1.],\n",
       "       [1., 1., 1.],\n",
       "       [1., 1., 1.]])"
      ]
     },
     "execution_count": 8,
     "metadata": {},
     "output_type": "execute_result"
    }
   ],
   "source": [
    "np.ones((4, 3))"
   ]
  },
  {
   "cell_type": "code",
   "execution_count": 9,
   "id": "b0c3b181",
   "metadata": {},
   "outputs": [
    {
     "data": {
      "text/plain": [
       "array([[0.00000000e+000, 0.00000000e+000],\n",
       "       [0.00000000e+000, 0.00000000e+000],\n",
       "       [0.00000000e+000, 4.58492919e-321],\n",
       "       [1.78019082e-306, 0.00000000e+000]])"
      ]
     },
     "execution_count": 9,
     "metadata": {},
     "output_type": "execute_result"
    }
   ],
   "source": [
    "# empty方法创建初始内容为随机数的数组\n",
    "np.empty((4, 2))"
   ]
  },
  {
   "cell_type": "code",
   "execution_count": 10,
   "id": "fd532247",
   "metadata": {},
   "outputs": [
    {
     "data": {
      "text/plain": [
       "array([0, 1, 2, 3])"
      ]
     },
     "execution_count": 10,
     "metadata": {},
     "output_type": "execute_result"
    }
   ],
   "source": [
    "np.arange(4)"
   ]
  },
  {
   "cell_type": "code",
   "execution_count": 11,
   "id": "ad55b29b",
   "metadata": {},
   "outputs": [
    {
     "data": {
      "text/plain": [
       "array([2, 4, 6, 8])"
      ]
     },
     "execution_count": 11,
     "metadata": {},
     "output_type": "execute_result"
    }
   ],
   "source": [
    "# 参数分别为第一个数、最后一个数、步数\n",
    "np.arange(2, 9, 2)"
   ]
  },
  {
   "cell_type": "code",
   "execution_count": 12,
   "id": "7c99c497",
   "metadata": {},
   "outputs": [
    {
     "data": {
      "text/plain": [
       "array([ 0. ,  2.5,  5. ,  7.5, 10. ])"
      ]
     },
     "execution_count": 12,
     "metadata": {},
     "output_type": "execute_result"
    }
   ],
   "source": [
    "np.linspace(0, 10, num=5)"
   ]
  },
  {
   "cell_type": "code",
   "execution_count": 13,
   "id": "c5c1c175",
   "metadata": {},
   "outputs": [
    {
     "data": {
      "text/plain": [
       "array([[1, 1, 1],\n",
       "       [1, 1, 1],\n",
       "       [1, 1, 1],\n",
       "       [1, 1, 1]], dtype=int64)"
      ]
     },
     "execution_count": 13,
     "metadata": {},
     "output_type": "execute_result"
    }
   ],
   "source": [
    "# numpy默认的数据类型是浮点Float64，可以显式指定类型\n",
    "x = np.ones((4, 3), dtype=np.int64)\n",
    "x"
   ]
  },
  {
   "cell_type": "markdown",
   "id": "00d4756b",
   "metadata": {},
   "source": [
    "---\n",
    "### 增加、删除元素，排序\n",
    "涉及   \n",
    "- `np.osrt()`\n",
    "- `np.concatenate()`"
   ]
  },
  {
   "cell_type": "code",
   "execution_count": 14,
   "id": "99f09e6f",
   "metadata": {},
   "outputs": [
    {
     "data": {
      "text/plain": [
       "array([1, 2, 3, 4, 5, 6, 7, 8])"
      ]
     },
     "execution_count": 14,
     "metadata": {},
     "output_type": "execute_result"
    }
   ],
   "source": [
    "arr = np.array([2, 1, 5, 3, 7, 4, 6, 8])\n",
    "np.sort(arr)"
   ]
  },
  {
   "cell_type": "code",
   "execution_count": 15,
   "id": "21ec355c",
   "metadata": {},
   "outputs": [
    {
     "data": {
      "text/plain": [
       "array([1, 2, 3, 4, 5, 6, 7, 8])"
      ]
     },
     "execution_count": 15,
     "metadata": {},
     "output_type": "execute_result"
    }
   ],
   "source": [
    "a = np.array([1, 2, 3, 4])\n",
    "b = np.array([5, 6, 7, 8])\n",
    "np.concatenate((a, b))"
   ]
  },
  {
   "cell_type": "code",
   "execution_count": 16,
   "id": "ed2032e8",
   "metadata": {},
   "outputs": [
    {
     "data": {
      "text/plain": [
       "array([[1, 2],\n",
       "       [3, 4],\n",
       "       [5, 6]])"
      ]
     },
     "execution_count": 16,
     "metadata": {},
     "output_type": "execute_result"
    }
   ],
   "source": [
    "x = np.array([[1, 2],\n",
    "              [3, 4]\n",
    "              ])\n",
    "y = np.array([\n",
    "    [5, 6]\n",
    "    ])\n",
    "np.concatenate((x, y), axis=0)"
   ]
  },
  {
   "cell_type": "markdown",
   "id": "e33896ae",
   "metadata": {},
   "source": [
    "---\n",
    "### 数组大小\n",
    "涉及    \n",
    "- `ndarray.ndim`\n",
    "- `ndarray.size`\n",
    "- `ndarray.shape`"
   ]
  },
  {
   "cell_type": "code",
   "execution_count": 17,
   "id": "6d783b65",
   "metadata": {},
   "outputs": [
    {
     "data": {
      "text/plain": [
       "array([[[0, 1, 2, 3],\n",
       "        [4, 5, 6, 7]],\n",
       "\n",
       "       [[0, 1, 2, 3],\n",
       "        [4, 5, 6, 7]],\n",
       "\n",
       "       [[0, 1, 2, 3],\n",
       "        [4, 5, 6, 7]]])"
      ]
     },
     "execution_count": 17,
     "metadata": {},
     "output_type": "execute_result"
    }
   ],
   "source": [
    "array_example = np.array([\n",
    "  [\n",
    "      [0, 1, 2, 3],\n",
    "      [4, 5, 6, 7]\n",
    "  ],\n",
    "  [\n",
    "      [0, 1, 2, 3],\n",
    "      [4, 5, 6, 7]\n",
    "  ],\n",
    "  [\n",
    "      [0, 1, 2, 3],\n",
    "      [4, 5, 6, 7]\n",
    "  ]\n",
    "])\n",
    "array_example"
   ]
  },
  {
   "cell_type": "code",
   "execution_count": 18,
   "id": "11c8a94b",
   "metadata": {},
   "outputs": [
    {
     "data": {
      "text/plain": [
       "3"
      ]
     },
     "execution_count": 18,
     "metadata": {},
     "output_type": "execute_result"
    }
   ],
   "source": [
    "# 数组的维度\n",
    "array_example.ndim"
   ]
  },
  {
   "cell_type": "code",
   "execution_count": 19,
   "id": "bb30a498",
   "metadata": {},
   "outputs": [
    {
     "data": {
      "text/plain": [
       "24"
      ]
     },
     "execution_count": 19,
     "metadata": {},
     "output_type": "execute_result"
    }
   ],
   "source": [
    "# 数组元素总数\n",
    "array_example.size"
   ]
  },
  {
   "cell_type": "code",
   "execution_count": 20,
   "id": "4b4003e7",
   "metadata": {},
   "outputs": [
    {
     "data": {
      "text/plain": [
       "(3, 2, 4)"
      ]
     },
     "execution_count": 20,
     "metadata": {},
     "output_type": "execute_result"
    }
   ],
   "source": [
    "# 数据的各维度大小(shape)\n",
    "array_example.shape"
   ]
  },
  {
   "cell_type": "markdown",
   "id": "34c3a006",
   "metadata": {},
   "source": [
    "---\n",
    "### 重塑(reshape)数组\n",
    "涉及\n",
    "- `arr.reshape()`"
   ]
  },
  {
   "cell_type": "code",
   "execution_count": 21,
   "id": "ad9c276d",
   "metadata": {},
   "outputs": [
    {
     "data": {
      "text/plain": [
       "array([0, 1, 2, 3, 4, 5])"
      ]
     },
     "execution_count": 21,
     "metadata": {},
     "output_type": "execute_result"
    }
   ],
   "source": [
    "a = np.arange(6)\n",
    "a"
   ]
  },
  {
   "cell_type": "code",
   "execution_count": 22,
   "id": "32b8a097",
   "metadata": {},
   "outputs": [
    {
     "data": {
      "text/plain": [
       "array([[0, 1],\n",
       "       [2, 3],\n",
       "       [4, 5]])"
      ]
     },
     "execution_count": 22,
     "metadata": {},
     "output_type": "execute_result"
    }
   ],
   "source": [
    "# 重塑成3行2列的数组\n",
    "b = a.reshape(3, 2)\n",
    "b"
   ]
  },
  {
   "cell_type": "markdown",
   "id": "177bcd31",
   "metadata": {},
   "source": [
    "---\n",
    "### 从`一维数组`转为`二维数组`\n",
    "涉及    \n",
    "- `np.newaxis`\n",
    "- `np.expand_dims`"
   ]
  }
 ],
 "metadata": {
  "kernelspec": {
   "display_name": "rl",
   "language": "python",
   "name": "python3"
  },
  "language_info": {
   "codemirror_mode": {
    "name": "ipython",
    "version": 3
   },
   "file_extension": ".py",
   "mimetype": "text/x-python",
   "name": "python",
   "nbconvert_exporter": "python",
   "pygments_lexer": "ipython3",
   "version": "3.10.6"
  }
 },
 "nbformat": 4,
 "nbformat_minor": 5
}
