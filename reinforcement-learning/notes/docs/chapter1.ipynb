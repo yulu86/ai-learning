{
 "cells": [
  {
   "cell_type": "markdown",
   "id": "675767ae",
   "metadata": {},
   "source": [
    "# 强化学习机器关键元素\n",
    "\n",
    "## 关键元素\n",
    "\n",
    "- `奖励(reward)`\n",
    "- `策略(policy)`: 强化学习的学习对象就是策略。通过改进策略以期最大化总奖励。\n",
    "\n",
    "## 强化学习的应用\n",
    "\n",
    "- 电动游戏\n",
    "- 自动驾驶\n",
    "\n",
    "## 智能体/环境接口\n",
    "\n",
    "- `智能体(agent)`: 强化学习系统中的决策者和学习者，它可以做出决策和接受奖励信号\n",
    "- `环境(environment)`: 强化系统中除智能体外的所有事物，是智能体交互的对象。\n",
    "\n",
    "在智能体/环境接口中，智能体和环境的交互主要有以下三个环节：\n",
    "\n",
    "1. `智能体观测(observation)环境`：可以获得环境的观测，记为`O`\n",
    "2. `动作(action)`：智能体对环境施加的动作，记为`A`\n",
    "3. `状态(state)`：环境受智能体动作的影响，改变自己的`状态`，记为`S`，并给出`奖励(reward)`，记为`R`"
   ]
  },
  {
   "cell_type": "markdown",
   "id": "cfbbbc74",
   "metadata": {},
   "source": [
    "## 使用`gymnasium`"
   ]
  },
  {
   "cell_type": "code",
   "execution_count": 6,
   "id": "459d47f1",
   "metadata": {},
   "outputs": [],
   "source": [
    "import gymnasium as gym\n",
    "\n",
    "# 创建环境\n",
    "env = gym.make('CartPole-v1')"
   ]
  },
  {
   "cell_type": "code",
   "execution_count": 7,
   "id": "de916232",
   "metadata": {},
   "outputs": [
    {
     "data": {
      "text/plain": [
       "['CartPole-v0',\n",
       " 'CartPole-v1',\n",
       " 'MountainCar-v0',\n",
       " 'MountainCarContinuous-v0',\n",
       " 'Pendulum-v1',\n",
       " 'Acrobot-v1',\n",
       " 'phys2d/CartPole-v0',\n",
       " 'phys2d/CartPole-v1',\n",
       " 'phys2d/Pendulum-v0',\n",
       " 'LunarLander-v2',\n",
       " 'LunarLanderContinuous-v2',\n",
       " 'BipedalWalker-v3',\n",
       " 'BipedalWalkerHardcore-v3',\n",
       " 'CarRacing-v2',\n",
       " 'Blackjack-v1',\n",
       " 'FrozenLake-v1',\n",
       " 'FrozenLake8x8-v1',\n",
       " 'CliffWalking-v0',\n",
       " 'Taxi-v3',\n",
       " 'tabular/Blackjack-v0',\n",
       " 'tabular/CliffWalking-v0',\n",
       " 'Reacher-v2',\n",
       " 'Reacher-v4',\n",
       " 'Pusher-v2',\n",
       " 'Pusher-v4',\n",
       " 'InvertedPendulum-v2',\n",
       " 'InvertedPendulum-v4',\n",
       " 'InvertedDoublePendulum-v2',\n",
       " 'InvertedDoublePendulum-v4',\n",
       " 'HalfCheetah-v2',\n",
       " 'HalfCheetah-v3',\n",
       " 'HalfCheetah-v4',\n",
       " 'Hopper-v2',\n",
       " 'Hopper-v3',\n",
       " 'Hopper-v4',\n",
       " 'Swimmer-v2',\n",
       " 'Swimmer-v3',\n",
       " 'Swimmer-v4',\n",
       " 'Walker2d-v2',\n",
       " 'Walker2d-v3',\n",
       " 'Walker2d-v4',\n",
       " 'Ant-v2',\n",
       " 'Ant-v3',\n",
       " 'Ant-v4',\n",
       " 'Humanoid-v2',\n",
       " 'Humanoid-v3',\n",
       " 'Humanoid-v4',\n",
       " 'HumanoidStandup-v2',\n",
       " 'HumanoidStandup-v4',\n",
       " 'GymV21Environment-v0',\n",
       " 'GymV26Environment-v0']"
      ]
     },
     "execution_count": 7,
     "metadata": {},
     "output_type": "execute_result"
    }
   ],
   "source": [
    "# 查看已注册的环境\n",
    "\n",
    "from gymnasium import envs\n",
    "\n",
    "env_specs = envs.registry\n",
    "env_ids = [env_spec for env_spec in env_specs]\n",
    "env_ids"
   ]
  },
  {
   "cell_type": "code",
   "execution_count": 8,
   "id": "fbc1db90",
   "metadata": {},
   "outputs": [
    {
     "name": "stdout",
     "output_type": "stream",
     "text": [
      "Box([-4.8000002e+00 -3.4028235e+38 -4.1887903e-01 -3.4028235e+38], [4.8000002e+00 3.4028235e+38 4.1887903e-01 3.4028235e+38], (4,), float32)\n",
      "Discrete(2)\n"
     ]
    }
   ],
   "source": [
    "# 观测空间\n",
    "observation_space = env.observation_space\n",
    "print(observation_space)\n",
    "\n",
    "# 动作空间\n",
    "action_space = env.action_space\n",
    "print(action_space)"
   ]
  },
  {
   "cell_type": "code",
   "execution_count": 9,
   "id": "106041d7",
   "metadata": {},
   "outputs": [
    {
     "data": {
      "text/plain": [
       "(array([-0.01096658,  0.01667925, -0.01663081,  0.02936794], dtype=float32),\n",
       " {})"
      ]
     },
     "execution_count": 9,
     "metadata": {},
     "output_type": "execute_result"
    }
   ],
   "source": [
    "# 环境初始化\n",
    "env.reset()"
   ]
  },
  {
   "cell_type": "markdown",
   "id": "ed89e00f",
   "metadata": {},
   "source": []
  },
  {
   "cell_type": "code",
   "execution_count": 10,
   "id": "3fdd0b81",
   "metadata": {},
   "outputs": [
    {
     "name": "stderr",
     "output_type": "stream",
     "text": [
      "C:\\Users\\Yulu Xu\\AppData\\Roaming\\Python\\Python310\\site-packages\\gymnasium\\envs\\classic_control\\cartpole.py:215: UserWarning: \u001b[33mWARN: You are calling render method without specifying any render mode. You can specify the render_mode at initialization, e.g. gym.make(\"CartPole-v1\", render_mode=\"rgb_array\")\u001b[0m\n",
      "  gym.logger.warn(\n"
     ]
    }
   ],
   "source": [
    "# 随机获取一个动作\n",
    "action = env.action_space.sample()\n",
    "\n",
    "# 图形化方式显示当前环境\n",
    "env.render()"
   ]
  },
  {
   "cell_type": "code",
   "execution_count": 11,
   "id": "b14c3ecc",
   "metadata": {},
   "outputs": [],
   "source": [
    "# 关闭环境\n",
    "env.close()"
   ]
  },
  {
   "cell_type": "markdown",
   "id": "ffc621bd",
   "metadata": {},
   "source": [
    "---\n",
    "\n",
    "### 小车上山"
   ]
  },
  {
   "cell_type": "code",
   "execution_count": 14,
   "id": "bd916156",
   "metadata": {},
   "outputs": [
    {
     "name": "stdout",
     "output_type": "stream",
     "text": [
      "观测空间 = Box([-1.2  -0.07], [0.6  0.07], (2,), float32)\n",
      "观测范围 = [-1.2  -0.07]\n",
      "动作空间 = Discrete(3)\n",
      "动作数 = 3\n"
     ]
    }
   ],
   "source": [
    "import gymnasium as gym\n",
    "\n",
    "env = gym.make('MountainCar-v0')\n",
    "print('观测空间 = {}'.format(env.observation_space))\n",
    "print('观测范围 = {}'.format(env.observation_space.low, env.observation_space.high))\n",
    "\n",
    "print('动作空间 = {}'.format(env.action_space))\n",
    "print('动作数 = {}'.format(env.action_space.n))"
   ]
  }
 ],
 "metadata": {
  "kernelspec": {
   "display_name": "Python 3 (ipykernel)",
   "language": "python",
   "name": "python3"
  },
  "language_info": {
   "codemirror_mode": {
    "name": "ipython",
    "version": 3
   },
   "file_extension": ".py",
   "mimetype": "text/x-python",
   "name": "python",
   "nbconvert_exporter": "python",
   "pygments_lexer": "ipython3",
   "version": "3.10.6"
  }
 },
 "nbformat": 4,
 "nbformat_minor": 5
}
